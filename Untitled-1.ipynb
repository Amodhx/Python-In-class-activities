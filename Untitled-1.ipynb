{
 "cells": [
  {
   "cell_type": "code",
   "execution_count": null,
   "metadata": {},
   "outputs": [
    {
     "name": "stdout",
     "output_type": "stream",
     "text": [
      "() <class 'tuple'>\n"
     ]
    }
   ],
   "source": [
    "def aribitary_position_argument(*args):\n",
    "    print(args,type(args))\n",
    "\n",
    "aribitary_position_argument()\n"
   ]
  },
  {
   "cell_type": "code",
   "execution_count": null,
   "metadata": {},
   "outputs": [
    {
     "name": "stdout",
     "output_type": "stream",
     "text": [
      "84\n"
     ]
    }
   ],
   "source": [
    "def calculate_sum(*numbers):\n",
    "     return sum(numbers)\n",
    "\n",
    "print(calculate_sum(12,23,44,5))"
   ]
  },
  {
   "cell_type": "code",
   "execution_count": 25,
   "metadata": {},
   "outputs": [
    {
     "name": "stdout",
     "output_type": "stream",
     "text": [
      "['Amodh', 'Kavidnu', 'RAMESH']\n",
      "HIGHEST GRADE 43\n",
      "LOWEST GRADE 12\n",
      "AVARAGE 26.0\n"
     ]
    }
   ],
   "source": [
    "# write a python func , names as a mandotary . grade scores not mandotary,\n",
    "    # 1.print the student names\n",
    "    # 2.calculate and print the highest grade, lowest grade abde ang drage from the provided school\n",
    "    # 3.if no grades are provided you should print no grades available\n",
    "\n",
    "def summerize_grades(names,*scores):\n",
    "    print(names)\n",
    "    if  scores:\n",
    "        print(\"HIGHEST GRADE\", max(scores))\n",
    "        print(\"LOWEST GRADE\", min(scores))\n",
    "        print(\"AVARAGE\", (sum(scores))/ len(scores))\n",
    "    else:\n",
    "        print(\"NO GRADES AVAILBLE\")\n",
    "\n",
    "\n",
    "summerize_grades([\"Amodh\",\"Kavidnu\",\"RAMESH\"],12,23,43)\n",
    "\n"
   ]
  }
 ],
 "metadata": {
  "kernelspec": {
   "display_name": "Python 3",
   "language": "python",
   "name": "python3"
  },
  "language_info": {
   "codemirror_mode": {
    "name": "ipython",
    "version": 3
   },
   "file_extension": ".py",
   "mimetype": "text/x-python",
   "name": "python",
   "nbconvert_exporter": "python",
   "pygments_lexer": "ipython3",
   "version": "3.13.0"
  }
 },
 "nbformat": 4,
 "nbformat_minor": 2
}
