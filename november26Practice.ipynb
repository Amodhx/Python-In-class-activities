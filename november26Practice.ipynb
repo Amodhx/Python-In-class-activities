{
 "cells": [
  {
   "cell_type": "code",
   "execution_count": 4,
   "metadata": {},
   "outputs": [
    {
     "name": "stdout",
     "output_type": "stream",
     "text": [
      "[1, 2, 3, 4]\n",
      "[1, [2, 3], 4]\n"
     ]
    }
   ],
   "source": [
    "list = [1,2,3,4]\n",
    "print(list)\n",
    "list[1:3] = [[2,3]]\n",
    "print(list)"
   ]
  },
  {
   "cell_type": "code",
   "execution_count": 5,
   "metadata": {},
   "outputs": [
    {
     "name": "stdout",
     "output_type": "stream",
     "text": [
      "3\n"
     ]
    }
   ],
   "source": [
    "data = {\n",
    "    'x' : {\n",
    "        'y':[1,2,{'z' : 3}]\n",
    "    }\n",
    "}\n",
    "print(data['x']['y'][2]['z'])"
   ]
  },
  {
   "cell_type": "code",
   "execution_count": 19,
   "metadata": {},
   "outputs": [
    {
     "name": "stdout",
     "output_type": "stream",
     "text": [
      "[1, 2, 3, 1, 2, 3]\n"
     ]
    }
   ],
   "source": [
    "list = [1,2,3]\n",
    "list[len(list):] = list\n",
    "print(list)\n",
    "# [1,2,3,[1,2,3]]\n"
   ]
  },
  {
   "cell_type": "code",
   "execution_count": 59,
   "metadata": {},
   "outputs": [
    {
     "name": "stdout",
     "output_type": "stream",
     "text": [
      "[0, 2, 0, 4, 0]\n"
     ]
    }
   ],
   "source": [
    "list = [1,2,3,4,5]\n",
    "list[::2] = [0,0,0]\n",
    "print(list)"
   ]
  },
  {
   "cell_type": "code",
   "execution_count": 63,
   "metadata": {},
   "outputs": [
    {
     "name": "stdout",
     "output_type": "stream",
     "text": [
      "[5, 6]\n",
      "[3, 4]\n"
     ]
    }
   ],
   "source": [
    "t = ([1,2],[3,4])\n",
    "t[0][:] = [5,6]\n",
    "print(t[0])\n",
    "print(t[1])"
   ]
  },
  {
   "cell_type": "code",
   "execution_count": null,
   "metadata": {},
   "outputs": [
    {
     "name": "stdout",
     "output_type": "stream",
     "text": [
      "True\n"
     ]
    }
   ],
   "source": [
    "d1 = {'a' : 1}\n",
    "d2 = {'b' : 2}\n",
    "d3 = d1 | d2\n",
    "d1['c'] = 3\n",
    "print('c' in d3)"
   ]
  },
  {
   "cell_type": "code",
   "execution_count": 82,
   "metadata": {},
   "outputs": [
    {
     "name": "stdout",
     "output_type": "stream",
     "text": [
      "4\n"
     ]
    }
   ],
   "source": [
    "x = [1,2,3]\n",
    "y = [x,x]\n",
    "x.append(4)\n",
    "print(y[0][-1])\n",
    "\n",
    "# y = [[1,2,3],[1,2,3]]\n",
    "# 4"
   ]
  },
  {
   "cell_type": "code",
   "execution_count": 83,
   "metadata": {},
   "outputs": [
    {
     "name": "stdout",
     "output_type": "stream",
     "text": [
      "4\n"
     ]
    }
   ],
   "source": [
    "t = (1,2,[3,4])\n",
    "t[2].extend([5])\n",
    "print(t[-1][-2])\n",
    "# 4"
   ]
  },
  {
   "cell_type": "code",
   "execution_count": 84,
   "metadata": {},
   "outputs": [
    {
     "name": "stdout",
     "output_type": "stream",
     "text": [
      "[4, 5, 6]\n"
     ]
    }
   ],
   "source": [
    "x = [1,2,3]\n",
    "y = x\n",
    "x[:] = [4,5,6]\n",
    "print(y)\n",
    "# [4,5,6]"
   ]
  },
  {
   "cell_type": "code",
   "execution_count": 85,
   "metadata": {},
   "outputs": [
    {
     "name": "stdout",
     "output_type": "stream",
     "text": [
      "False\n"
     ]
    }
   ],
   "source": [
    "x = 5 \n",
    "y = 10\n",
    "z = x == y \n",
    "# false\n",
    "print(z)"
   ]
  },
  {
   "cell_type": "code",
   "execution_count": 86,
   "metadata": {},
   "outputs": [
    {
     "name": "stdout",
     "output_type": "stream",
     "text": [
      "{'x': 10, 'y': 2, 'z': 3}\n"
     ]
    }
   ],
   "source": [
    "d = {\n",
    "    'x' : 1,\n",
    "    'y' : 2\n",
    "}\n",
    "d.update({'x' : 10, 'z' : 3})\n",
    "print(d)\n"
   ]
  },
  {
   "cell_type": "code",
   "execution_count": 87,
   "metadata": {},
   "outputs": [
    {
     "name": "stdout",
     "output_type": "stream",
     "text": [
      "[10, 99, 40]\n"
     ]
    }
   ],
   "source": [
    "a = [10,20,30,40]\n",
    "a[1:3] = [99]\n",
    "print(a)\n",
    "# [10,99,40]"
   ]
  },
  {
   "cell_type": "code",
   "execution_count": 91,
   "metadata": {},
   "outputs": [
    {
     "name": "stdout",
     "output_type": "stream",
     "text": [
      "5\n",
      "[1, 2, 3, 4, [5, 6]]\n"
     ]
    }
   ],
   "source": [
    "nums = [1,2,3,4]\n",
    "nums.append([5,6])\n",
    "print(len(nums))\n",
    "print(nums)\n",
    "# 6"
   ]
  },
  {
   "cell_type": "code",
   "execution_count": 92,
   "metadata": {},
   "outputs": [
    {
     "name": "stdout",
     "output_type": "stream",
     "text": [
      "0\n"
     ]
    }
   ],
   "source": [
    "a= 5 \n",
    "b = 2\n",
    "print ( a ** b // 3 % 2)\n",
    "# 0"
   ]
  },
  {
   "cell_type": "code",
   "execution_count": null,
   "metadata": {},
   "outputs": [
    {
     "name": "stdout",
     "output_type": "stream",
     "text": [
      "b ['a', 'c']\n"
     ]
    },
    {
     "data": {
      "text/plain": [
       "(2, ['a', 'c'])"
      ]
     },
     "execution_count": 93,
     "metadata": {},
     "output_type": "execute_result"
    }
   ],
   "source": [
    "x = ['a','b','c']\n",
    "y = x.pop(1)\n",
    "print(y , x)\n",
    "\n",
    "# b,['a','c']"
   ]
  }
 ],
 "metadata": {
  "kernelspec": {
   "display_name": "Python 3",
   "language": "python",
   "name": "python3"
  },
  "language_info": {
   "codemirror_mode": {
    "name": "ipython",
    "version": 3
   },
   "file_extension": ".py",
   "mimetype": "text/x-python",
   "name": "python",
   "nbconvert_exporter": "python",
   "pygments_lexer": "ipython3",
   "version": "3.13.0"
  }
 },
 "nbformat": 4,
 "nbformat_minor": 2
}
