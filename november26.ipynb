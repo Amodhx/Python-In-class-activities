{
 "cells": [
  {
   "cell_type": "code",
   "execution_count": null,
   "metadata": {},
   "outputs": [
    {
     "name": "stdout",
     "output_type": "stream",
     "text": [
      "() <class 'tuple'>\n"
     ]
    }
   ],
   "source": [
    "def aribitary_position_argument(*args):\n",
    "    print(args,type(args))\n",
    "\n",
    "aribitary_position_argument()\n"
   ]
  },
  {
   "cell_type": "code",
   "execution_count": null,
   "metadata": {},
   "outputs": [
    {
     "name": "stdout",
     "output_type": "stream",
     "text": [
      "84\n"
     ]
    }
   ],
   "source": [
    "def calculate_sum(*numbers):\n",
    "     return sum(numbers)\n",
    "\n",
    "print(calculate_sum(12,23,44,5))"
   ]
  },
  {
   "cell_type": "code",
   "execution_count": null,
   "metadata": {},
   "outputs": [
    {
     "name": "stdout",
     "output_type": "stream",
     "text": [
      "Amodh\n",
      "HIGHEST GRADE 43\n",
      "LOWEST GRADE 12\n",
      "AVARAGE 26.0\n"
     ]
    }
   ],
   "source": [
    "# write a python func , names as a mandotary . grade scores not mandotary,\n",
    "    # 1.print the student names\n",
    "    # 2.calculate and print the highest grade, lowest grade abde ang drage from the provided school\n",
    "    # 3.if no grades are provided you should print no grades available\n",
    "\n",
    "def summerize_grades(name,*scores):\n",
    "    print(name)\n",
    "    if  scores:\n",
    "        print(\"HIGHEST GRADE\", max(scores))\n",
    "        print(\"LOWEST GRADE\", min(scores))\n",
    "        print(\"AVARAGE\", (sum(scores))/ len(scores))\n",
    "    else:\n",
    "        print(\"NO GRADES AVAILBLE\")\n",
    "\n",
    "\n",
    "summerize_grades(\"Amodh\",12,23,43)\n",
    "\n"
   ]
  },
  {
   "cell_type": "code",
   "execution_count": null,
   "metadata": {},
   "outputs": [
    {
     "name": "stdout",
     "output_type": "stream",
     "text": [
      "{'name': 'JOHN', 'age': 21} <class 'dict'>\n"
     ]
    }
   ],
   "source": [
    "def arbitary_keyword_args(**kwargs):\n",
    "    print(kwargs,type(kwargs))\n",
    "\n",
    "arbitary_keyword_args(name = \"JOHN\" , age =21)"
   ]
  },
  {
   "cell_type": "code",
   "execution_count": 83,
   "metadata": {},
   "outputs": [
    {
     "name": "stdout",
     "output_type": "stream",
     "text": [
      "AMODH\n",
      "age 22\n",
      "city Maggona\n",
      "{'name': 'AMODH', 'age': 22, 'city': 'Maggona'}\n"
     ]
    }
   ],
   "source": [
    "# write a python func for , that accepts required name parameter and arbitary numbers of keyword argument.\n",
    "# represent in additional details abount the empliyee.\n",
    "# The func should be\n",
    "# print the employee name\n",
    "# itareate through the keyword argument and print each key value pair in the format \"key:<value>\"\n",
    "# return a dict with all the employee details\n",
    "\n",
    "def employee_info(name , **details):\n",
    "    print(name)\n",
    "    for key,value in details.items():\n",
    "        print(key,value) \n",
    "\n",
    "    return {\"name\" : name} | details\n",
    "print(employee_info(\"AMODH\",age=22 , city=\"Maggona\"))\n"
   ]
  },
  {
   "cell_type": "code",
   "execution_count": 1,
   "metadata": {},
   "outputs": [
    {
     "name": "stdout",
     "output_type": "stream",
     "text": [
      "10\n"
     ]
    }
   ],
   "source": [
    "# find absoulute value\n",
    "\n",
    "def find_abs(value):\n",
    "    return abs(value)\n",
    "\n",
    "print(find_abs(-10))"
   ]
  },
  {
   "cell_type": "code",
   "execution_count": 13,
   "metadata": {},
   "outputs": [
    {
     "name": "stdout",
     "output_type": "stream",
     "text": [
      "<map object at 0x000001D53723A350> <class 'map'>\n",
      "[11, 2, 321] <class 'list'>\n"
     ]
    }
   ],
   "source": [
    "# map()\n",
    "def print_value(value):\n",
    "    return value\n",
    "\n",
    "result = map(print_value,[11,2,321])\n",
    "print(result,type(result))\n",
    "result = list(result)\n",
    "print(result,type(result))\n"
   ]
  },
  {
   "cell_type": "code",
   "execution_count": null,
   "metadata": {},
   "outputs": [
    {
     "name": "stdout",
     "output_type": "stream",
     "text": [
      "<map object at 0x00000165CF960E20> <class 'map'>\n",
      "[121, 4, 103041] <class 'list'>\n"
     ]
    }
   ],
   "source": [
    "# Built in functions.\n",
    "    # map()\n",
    "def find_squar(x):\n",
    "    return x*x\n",
    "\n",
    "result = map(find_squar,[11,2,321])\n",
    "print(result,type(result))\n",
    "result = list(result)\n",
    "print(result,type(result))\n"
   ]
  },
  {
   "cell_type": "code",
   "execution_count": 15,
   "metadata": {},
   "outputs": [
    {
     "name": "stdout",
     "output_type": "stream",
     "text": [
      "[42, 55, 5]\n"
     ]
    }
   ],
   "source": [
    "# question 03\n",
    "\n",
    "def find_total(first_value,second_value):\n",
    "    return first_value + second_value\n",
    "\n",
    "list_1=[20,33,2]\n",
    "list_2 = [22,22,3]\n",
    "\n",
    "result = list(map(find_total,list_1,list_2))\n",
    "print(result)"
   ]
  },
  {
   "cell_type": "code",
   "execution_count": null,
   "metadata": {},
   "outputs": [
    {
     "name": "stdout",
     "output_type": "stream",
     "text": [
      "[68.0, 86.0, 77.0, 104.0, 122.0]\n"
     ]
    }
   ],
   "source": [
    "# question 04\n",
    "# You have list of integer represent in tempreture in celcius.\n",
    "# tempreture = [20,30,25,40,50]\n",
    "# write a python program using the map func to convert this tempreture to faranhite\n",
    "# use the formula \n",
    "\n",
    "tempreture_celsius = [20,30,25,40,50]\n",
    "def celsius_to_fahrenhite(value_in_celsius):\n",
    "    return value_in_celsius * (9/5) + 32\n",
    "\n",
    "\n",
    "print(list(map(celsius_to_fahrenhite,tempreture_celsius)))\n"
   ]
  },
  {
   "cell_type": "code",
   "execution_count": null,
   "metadata": {},
   "outputs": [
    {
     "name": "stdout",
     "output_type": "stream",
     "text": [
      "[10, 20]\n"
     ]
    }
   ],
   "source": [
    "# filter()\n",
    "#for the filter function you can't multiple iterable this func always return logical true or false\n",
    "\n",
    "def is_greater_than_zero(value):\n",
    "    return value > 0\n",
    "\n",
    "print(list(filter(is_greater_than_zero,[10,20,-33])))"
   ]
  },
  {
   "cell_type": "code",
   "execution_count": null,
   "metadata": {},
   "outputs": [
    {
     "name": "stdout",
     "output_type": "stream",
     "text": [
      "[2, 22]\n"
     ]
    }
   ],
   "source": [
    "# question 05\n",
    "# write the func to filter out odd numbers \n",
    "numbers_list = [11,2,3,43,23,22]\n",
    "\n",
    "def filter_even_number(value):\n",
    "    return value %2 == 0\n",
    "\n",
    "print(list(filter(filter_even_number,numbers_list)))"
   ]
  }
 ],
 "metadata": {
  "kernelspec": {
   "display_name": "Python 3",
   "language": "python",
   "name": "python3"
  },
  "language_info": {
   "codemirror_mode": {
    "name": "ipython",
    "version": 3
   },
   "file_extension": ".py",
   "mimetype": "text/x-python",
   "name": "python",
   "nbconvert_exporter": "python",
   "pygments_lexer": "ipython3",
   "version": "3.13.0"
  }
 },
 "nbformat": 4,
 "nbformat_minor": 2
}
