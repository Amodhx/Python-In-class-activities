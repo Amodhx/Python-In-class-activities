{
 "cells": [
  {
   "cell_type": "code",
   "execution_count": null,
   "metadata": {},
   "outputs": [
    {
     "name": "stdout",
     "output_type": "stream",
     "text": [
      "() <class 'tuple'>\n"
     ]
    }
   ],
   "source": [
    "def aribitary_position_argument(*args):\n",
    "    print(args,type(args))\n",
    "\n",
    "aribitary_position_argument()\n"
   ]
  },
  {
   "cell_type": "code",
   "execution_count": null,
   "metadata": {},
   "outputs": [
    {
     "name": "stdout",
     "output_type": "stream",
     "text": [
      "84\n"
     ]
    }
   ],
   "source": [
    "def calculate_sum(*numbers):\n",
    "     return sum(numbers)\n",
    "\n",
    "print(calculate_sum(12,23,44,5))"
   ]
  },
  {
   "cell_type": "code",
   "execution_count": null,
   "metadata": {},
   "outputs": [
    {
     "name": "stdout",
     "output_type": "stream",
     "text": [
      "Amodh\n",
      "HIGHEST GRADE 43\n",
      "LOWEST GRADE 12\n",
      "AVARAGE 26.0\n"
     ]
    }
   ],
   "source": [
    "# write a python func , names as a mandotary . grade scores not mandotary,\n",
    "    # 1.print the student names\n",
    "    # 2.calculate and print the highest grade, lowest grade abde ang drage from the provided school\n",
    "    # 3.if no grades are provided you should print no grades available\n",
    "\n",
    "def summerize_grades(name,*scores):\n",
    "    print(name)\n",
    "    if  scores:\n",
    "        print(\"HIGHEST GRADE\", max(scores))\n",
    "        print(\"LOWEST GRADE\", min(scores))\n",
    "        print(\"AVARAGE\", (sum(scores))/ len(scores))\n",
    "    else:\n",
    "        print(\"NO GRADES AVAILBLE\")\n",
    "\n",
    "\n",
    "summerize_grades(\"Amodh\",12,23,43)\n",
    "\n"
   ]
  },
  {
   "cell_type": "code",
   "execution_count": null,
   "metadata": {},
   "outputs": [
    {
     "name": "stdout",
     "output_type": "stream",
     "text": [
      "{'name': 'JOHN', 'age': 21} <class 'dict'>\n"
     ]
    }
   ],
   "source": [
    "def arbitary_keyword_args(**kwargs):\n",
    "    print(kwargs,type(kwargs))\n",
    "\n",
    "arbitary_keyword_args(name = \"JOHN\" , age =21)"
   ]
  },
  {
   "cell_type": "code",
   "execution_count": 83,
   "metadata": {},
   "outputs": [
    {
     "name": "stdout",
     "output_type": "stream",
     "text": [
      "AMODH\n",
      "age 22\n",
      "city Maggona\n",
      "{'name': 'AMODH', 'age': 22, 'city': 'Maggona'}\n"
     ]
    }
   ],
   "source": [
    "# write a python func for , that accepts required name parameter and arbitary numbers of keyword argument.\n",
    "# represent in additional details abount the empliyee.\n",
    "# The func should be\n",
    "# print the employee name\n",
    "# itareate through the keyword argument and print each key value pair in the format \"key:<value>\"\n",
    "# return a dict with all the employee details\n",
    "\n",
    "def employee_info(name , **details):\n",
    "    print(name)\n",
    "    for key,value in details.items():\n",
    "        print(key,value) \n",
    "\n",
    "    return {\"name\" : name} | details\n",
    "print(employee_info(\"AMODH\",age=22 , city=\"Maggona\"))\n"
   ]
  },
  {
   "cell_type": "code",
   "execution_count": 1,
   "metadata": {},
   "outputs": [
    {
     "name": "stdout",
     "output_type": "stream",
     "text": [
      "10\n"
     ]
    }
   ],
   "source": [
    "# find absoulute value\n",
    "\n",
    "def find_abs(value):\n",
    "    return abs(value)\n",
    "\n",
    "print(find_abs(-10))"
   ]
  }
 ],
 "metadata": {
  "kernelspec": {
   "display_name": "Python 3",
   "language": "python",
   "name": "python3"
  },
  "language_info": {
   "codemirror_mode": {
    "name": "ipython",
    "version": 3
   },
   "file_extension": ".py",
   "mimetype": "text/x-python",
   "name": "python",
   "nbconvert_exporter": "python",
   "pygments_lexer": "ipython3",
   "version": "3.13.0"
  }
 },
 "nbformat": 4,
 "nbformat_minor": 2
}
